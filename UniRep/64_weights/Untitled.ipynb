{
 "cells": [
  {
   "cell_type": "code",
   "execution_count": 1,
   "metadata": {
    "collapsed": true
   },
   "outputs": [],
   "source": [
    "import os,sys"
   ]
  },
  {
   "cell_type": "code",
   "execution_count": 3,
   "metadata": {},
   "outputs": [],
   "source": [
    "all_files = os.listdir(os.getcwd())\n",
    "npy_files = [x for x in all_files if '.npy' in x]"
   ]
  },
  {
   "cell_type": "code",
   "execution_count": 4,
   "metadata": {},
   "outputs": [
    {
     "data": {
      "text/plain": [
       "['rnn_mlstm_stack_mlstm_stack3_mlstm_stack3_gx:0.npy',\n",
       " 'rnn_mlstm_stack_mlstm_stack0_mlstm_stack0_gx:0.npy',\n",
       " 'rnn_mlstm_stack_mlstm_stack1_mlstm_stack1_gh:0.npy',\n",
       " 'rnn_mlstm_stack_mlstm_stack2_mlstm_stack2_gh:0.npy',\n",
       " 'rnn_mlstm_stack_mlstm_stack1_mlstm_stack1_gmh:0.npy',\n",
       " 'rnn_mlstm_stack_mlstm_stack2_mlstm_stack2_wmh:0.npy',\n",
       " 'rnn_mlstm_stack_mlstm_stack0_mlstm_stack0_gmh:0.npy',\n",
       " 'rnn_mlstm_stack_mlstm_stack3_mlstm_stack3_wmh:0.npy',\n",
       " 'rnn_mlstm_stack_mlstm_stack0_mlstm_stack0_b:0.npy',\n",
       " 'rnn_mlstm_stack_mlstm_stack1_mlstm_stack1_b:0.npy',\n",
       " 'rnn_mlstm_stack_mlstm_stack0_mlstm_stack0_wmx:0.npy',\n",
       " 'rnn_mlstm_stack_mlstm_stack3_mlstm_stack3_gmx:0.npy',\n",
       " 'embed_matrix:0.npy',\n",
       " 'rnn_mlstm_stack_mlstm_stack3_mlstm_stack3_wx:0.npy',\n",
       " 'rnn_mlstm_stack_mlstm_stack1_mlstm_stack1_wmx:0.npy',\n",
       " 'rnn_mlstm_stack_mlstm_stack0_mlstm_stack0_wx:0.npy',\n",
       " 'rnn_mlstm_stack_mlstm_stack2_mlstm_stack2_gmx:0.npy',\n",
       " 'rnn_mlstm_stack_mlstm_stack1_mlstm_stack1_wh:0.npy',\n",
       " 'rnn_mlstm_stack_mlstm_stack2_mlstm_stack2_wh:0.npy',\n",
       " 'rnn_mlstm_stack_mlstm_stack0_mlstm_stack0_gh:0.npy',\n",
       " 'rnn_mlstm_stack_mlstm_stack3_mlstm_stack3_b:0.npy',\n",
       " 'rnn_mlstm_stack_mlstm_stack3_mlstm_stack3_gh:0.npy',\n",
       " 'rnn_mlstm_stack_mlstm_stack2_mlstm_stack2_wmx:0.npy',\n",
       " 'rnn_mlstm_stack_mlstm_stack1_mlstm_stack1_gmx:0.npy',\n",
       " 'rnn_mlstm_stack_mlstm_stack2_mlstm_stack2_gx:0.npy',\n",
       " 'rnn_mlstm_stack_mlstm_stack1_mlstm_stack1_gx:0.npy',\n",
       " 'rnn_mlstm_stack_mlstm_stack3_mlstm_stack3_wmx:0.npy',\n",
       " 'rnn_mlstm_stack_mlstm_stack0_mlstm_stack0_gmx:0.npy',\n",
       " 'fully_connected_biases:0.npy',\n",
       " 'rnn_mlstm_stack_mlstm_stack3_mlstm_stack3_gmh:0.npy',\n",
       " 'rnn_mlstm_stack_mlstm_stack0_mlstm_stack0_wmh:0.npy',\n",
       " 'rnn_mlstm_stack_mlstm_stack2_mlstm_stack2_gmh:0.npy',\n",
       " 'rnn_mlstm_stack_mlstm_stack0_mlstm_stack0_wh:0.npy',\n",
       " 'rnn_mlstm_stack_mlstm_stack1_mlstm_stack1_wmh:0.npy',\n",
       " 'rnn_mlstm_stack_mlstm_stack3_mlstm_stack3_wh:0.npy',\n",
       " 'rnn_mlstm_stack_mlstm_stack2_mlstm_stack2_b:0.npy',\n",
       " 'rnn_mlstm_stack_mlstm_stack2_mlstm_stack2_wx:0.npy',\n",
       " 'fully_connected_weights:0.npy',\n",
       " 'rnn_mlstm_stack_mlstm_stack1_mlstm_stack1_wx:0.npy']"
      ]
     },
     "execution_count": 4,
     "metadata": {},
     "output_type": "execute_result"
    }
   ],
   "source": [
    "for npy_file in npy_files:\n",
    "    cmd = 'cp {} {}'.format(npy_file, npy_file.replace(':',''))\n",
    "    os.system()"
   ]
  },
  {
   "cell_type": "code",
   "execution_count": null,
   "metadata": {
    "collapsed": true
   },
   "outputs": [],
   "source": []
  }
 ],
 "metadata": {
  "kernelspec": {
   "display_name": "Python 2",
   "language": "python",
   "name": "python2"
  },
  "language_info": {
   "codemirror_mode": {
    "name": "ipython",
    "version": 2
   },
   "file_extension": ".py",
   "mimetype": "text/x-python",
   "name": "python",
   "nbconvert_exporter": "python",
   "pygments_lexer": "ipython2",
   "version": "2.7.6"
  }
 },
 "nbformat": 4,
 "nbformat_minor": 2
}
