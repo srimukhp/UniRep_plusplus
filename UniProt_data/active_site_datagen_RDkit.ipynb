{
 "cells": [
  {
   "cell_type": "markdown",
   "metadata": {},
   "source": [
    "## This file replaces the D-MPNN representation with RDKit representation"
   ]
  },
  {
   "cell_type": "code",
   "execution_count": 1,
   "metadata": {
    "collapsed": true
   },
   "outputs": [],
   "source": [
    "import numpy as np\n",
    "import json\n",
    "import pandas as pd"
   ]
  },
  {
   "cell_type": "code",
   "execution_count": 2,
   "metadata": {
    "collapsed": true
   },
   "outputs": [],
   "source": [
    "len_unirep = 1900\n",
    "len_dmpnn_rep = 300"
   ]
  },
  {
   "cell_type": "code",
   "execution_count": 3,
   "metadata": {},
   "outputs": [],
   "source": [
    "with open('../RDKit_reps.json','r') as f:\n",
    "    aa_reps = json.loads(f.read())\n",
    "    for key, val in aa_reps.items():\n",
    "        lst = aa_reps[key]\n",
    "        lst = [float(x) for x in lst]\n",
    "        lst = np.array(lst)\n",
    "        lst = lst.reshape((-1,1))\n",
    "        aa_reps[key] = lst\n",
    "    len_rdkit_rep = len(aa_reps['M'])\n",
    "    \n",
    "aa_reps_one_hot = {}\n",
    "num_aa = len(aa_reps)\n",
    "for key,val in enumerate(aa_reps):\n",
    "    one_hot = np.zeros((num_aa,1))\n",
    "    one_hot[key] = 1.\n",
    "    aa_reps_one_hot[val] = one_hot"
   ]
  },
  {
   "cell_type": "code",
   "execution_count": 4,
   "metadata": {},
   "outputs": [],
   "source": [
    "def get_aa_encoding_neighbor(seq, damp_param):\n",
    "    lst_seq = list(seq)\n",
    "    rep = aa_reps_one_hot[lst_seq[0]]*damp_param+aa_reps_one_hot[lst_seq[1]]\n",
    "    if len(lst_seq)>2:\n",
    "        rep =  aa_reps_one_hot[lst_seq[0]]*damp_param+aa_reps_one_hot[lst_seq[1]]+aa_reps_one_hot[lst_seq[2]]*damp_param\n",
    "    else:\n",
    "        rep =  aa_reps_one_hot[lst_seq[0]]*damp_param+aa_reps_one_hot[lst_seq[1]]\n",
    "    return rep "
   ]
  },
  {
   "cell_type": "code",
   "execution_count": 5,
   "metadata": {},
   "outputs": [
    {
     "data": {
      "text/plain": [
       "(1927, 56064)"
      ]
     },
     "execution_count": 5,
     "metadata": {},
     "output_type": "execute_result"
    }
   ],
   "source": [
    "hs64_mat = np.load('hs1900_nl1_0_to_56097.npy')\n",
    "hs64_mat = np.delete(hs64_mat, np.arange(len_unirep,len_unirep+len_dmpnn_rep), axis=0)\n",
    "hs64_mat = np.insert(hs64_mat, len_unirep, np.zeros((num_aa, hs64_mat.shape[1])), axis=0)\n",
    "hs64_mat.shape"
   ]
  },
  {
   "cell_type": "code",
   "execution_count": 6,
   "metadata": {
    "scrolled": true
   },
   "outputs": [
    {
     "data": {
      "text/html": [
       "<div>\n",
       "<style scoped>\n",
       "    .dataframe tbody tr th:only-of-type {\n",
       "        vertical-align: middle;\n",
       "    }\n",
       "\n",
       "    .dataframe tbody tr th {\n",
       "        vertical-align: top;\n",
       "    }\n",
       "\n",
       "    .dataframe thead th {\n",
       "        text-align: right;\n",
       "    }\n",
       "</style>\n",
       "<table border=\"1\" class=\"dataframe\">\n",
       "  <thead>\n",
       "    <tr style=\"text-align: right;\">\n",
       "      <th></th>\n",
       "      <th>Entry</th>\n",
       "      <th>Entry name</th>\n",
       "      <th>Organism</th>\n",
       "      <th>Length</th>\n",
       "      <th>Active site num</th>\n",
       "      <th>Active site type</th>\n",
       "      <th>Active site residue</th>\n",
       "      <th>Sequence</th>\n",
       "      <th>UniRep</th>\n",
       "      <th>Active site neighbor</th>\n",
       "    </tr>\n",
       "  </thead>\n",
       "  <tbody>\n",
       "    <tr>\n",
       "      <th>0</th>\n",
       "      <td>O35815</td>\n",
       "      <td>ATX3_RAT</td>\n",
       "      <td>Rattus norvegicus (Rat)</td>\n",
       "      <td>355</td>\n",
       "      <td>14</td>\n",
       "      <td>2</td>\n",
       "      <td>C</td>\n",
       "      <td>MESIFHEKQEGSLCAQHCLNNLLQGEYFSPVELSSIAHQLDEEERL...</td>\n",
       "      <td>NaN</td>\n",
       "      <td>LCA</td>\n",
       "    </tr>\n",
       "    <tr>\n",
       "      <th>1</th>\n",
       "      <td>O35815</td>\n",
       "      <td>ATX3_RAT</td>\n",
       "      <td>Rattus norvegicus (Rat)</td>\n",
       "      <td>355</td>\n",
       "      <td>119</td>\n",
       "      <td>5</td>\n",
       "      <td>H</td>\n",
       "      <td>MESIFHEKQEGSLCAQHCLNNLLQGEYFSPVELSSIAHQLDEEERL...</td>\n",
       "      <td>NaN</td>\n",
       "      <td>EHW</td>\n",
       "    </tr>\n",
       "    <tr>\n",
       "      <th>2</th>\n",
       "      <td>O94760</td>\n",
       "      <td>DDAH1_HUMAN</td>\n",
       "      <td>Homo sapiens (Human)</td>\n",
       "      <td>285</td>\n",
       "      <td>173</td>\n",
       "      <td>4</td>\n",
       "      <td>H</td>\n",
       "      <td>MAGLGHPAAFGRATHAVVRALPESLGQHALRSAKGEEVDVARAERQ...</td>\n",
       "      <td>NaN</td>\n",
       "      <td>LHL</td>\n",
       "    </tr>\n",
       "    <tr>\n",
       "      <th>3</th>\n",
       "      <td>O94760</td>\n",
       "      <td>DDAH1_HUMAN</td>\n",
       "      <td>Homo sapiens (Human)</td>\n",
       "      <td>285</td>\n",
       "      <td>274</td>\n",
       "      <td>2</td>\n",
       "      <td>C</td>\n",
       "      <td>MAGLGHPAAFGRATHAVVRALPESLGQHALRSAKGEEVDVARAERQ...</td>\n",
       "      <td>NaN</td>\n",
       "      <td>TCC</td>\n",
       "    </tr>\n",
       "    <tr>\n",
       "      <th>4</th>\n",
       "      <td>Q540U1</td>\n",
       "      <td>APHA_SALTM</td>\n",
       "      <td>Salmonella typhimurium</td>\n",
       "      <td>237</td>\n",
       "      <td>69</td>\n",
       "      <td>2</td>\n",
       "      <td>D</td>\n",
       "      <td>MKKITLALSAVCLLFTLNHSANALVSSPSTLNPGTNVAKLAEQAPV...</td>\n",
       "      <td>NaN</td>\n",
       "      <td>FDI</td>\n",
       "    </tr>\n",
       "  </tbody>\n",
       "</table>\n",
       "</div>"
      ],
      "text/plain": [
       "    Entry   Entry name                 Organism  Length  Active site num  \\\n",
       "0  O35815     ATX3_RAT  Rattus norvegicus (Rat)     355               14   \n",
       "1  O35815     ATX3_RAT  Rattus norvegicus (Rat)     355              119   \n",
       "2  O94760  DDAH1_HUMAN     Homo sapiens (Human)     285              173   \n",
       "3  O94760  DDAH1_HUMAN     Homo sapiens (Human)     285              274   \n",
       "4  Q540U1   APHA_SALTM   Salmonella typhimurium     237               69   \n",
       "\n",
       "   Active site type Active site residue  \\\n",
       "0                 2                   C   \n",
       "1                 5                   H   \n",
       "2                 4                   H   \n",
       "3                 2                   C   \n",
       "4                 2                   D   \n",
       "\n",
       "                                            Sequence  UniRep  \\\n",
       "0  MESIFHEKQEGSLCAQHCLNNLLQGEYFSPVELSSIAHQLDEEERL...     NaN   \n",
       "1  MESIFHEKQEGSLCAQHCLNNLLQGEYFSPVELSSIAHQLDEEERL...     NaN   \n",
       "2  MAGLGHPAAFGRATHAVVRALPESLGQHALRSAKGEEVDVARAERQ...     NaN   \n",
       "3  MAGLGHPAAFGRATHAVVRALPESLGQHALRSAKGEEVDVARAERQ...     NaN   \n",
       "4  MKKITLALSAVCLLFTLNHSANALVSSPSTLNPGTNVAKLAEQAPV...     NaN   \n",
       "\n",
       "  Active site neighbor  \n",
       "0                  LCA  \n",
       "1                  EHW  \n",
       "2                  LHL  \n",
       "3                  TCC  \n",
       "4                  FDI  "
      ]
     },
     "execution_count": 6,
     "metadata": {},
     "output_type": "execute_result"
    }
   ],
   "source": [
    "df_active_site = pd.read_excel('active_site_annotation_neighbor.xlsx',header=[0],index_col=[0])\n",
    "df_active_site.head()"
   ]
  },
  {
   "cell_type": "code",
   "execution_count": 7,
   "metadata": {},
   "outputs": [],
   "source": [
    "for row in range(hs64_mat.shape[1]):\n",
    "    res_name = df_active_site.iloc[row]['Active site neighbor']\n",
    "    act_site_type_df = int(df_active_site.iloc[row]['Active site type'])-1\n",
    "    act_site_type_mat = int(hs64_mat[num_aa+ len_unirep,row])\n",
    "#     print(act_site_type_df, act_site_type_mat)\n",
    "    assert act_site_type_df == act_site_type_mat\n",
    "    hs64_mat[len_unirep:len_unirep+num_aa,row:row+1] = get_aa_encoding_neighbor(res_name,0.1)\n"
   ]
  },
  {
   "cell_type": "code",
   "execution_count": 8,
   "metadata": {
    "collapsed": true
   },
   "outputs": [],
   "source": [
    "np.save('hs1900_nl1_onehotneigh_0_to_56097.npy', hs64_mat)"
   ]
  },
  {
   "cell_type": "code",
   "execution_count": 9,
   "metadata": {
    "collapsed": true
   },
   "outputs": [],
   "source": [
    "orig_mat = np.load('hs1900_nl1_0_to_56097.npy')\n",
    "new_mat = np.load('hs1900_nl1_onehotneigh_0_to_56097.npy')\n"
   ]
  },
  {
   "cell_type": "code",
   "execution_count": 10,
   "metadata": {},
   "outputs": [
    {
     "data": {
      "text/plain": [
       "0.0"
      ]
     },
     "execution_count": 10,
     "metadata": {},
     "output_type": "execute_result"
    }
   ],
   "source": [
    "np.max(np.abs(orig_mat[-1,:]-new_mat[-1,:] ))"
   ]
  },
  {
   "cell_type": "code",
   "execution_count": 11,
   "metadata": {},
   "outputs": [
    {
     "data": {
      "text/plain": [
       "0.0"
      ]
     },
     "execution_count": 11,
     "metadata": {},
     "output_type": "execute_result"
    }
   ],
   "source": [
    "np.max(np.abs(orig_mat[:len_unirep,:]-new_mat[:len_unirep,:] ))"
   ]
  },
  {
   "cell_type": "code",
   "execution_count": 12,
   "metadata": {},
   "outputs": [
    {
     "data": {
      "text/plain": [
       "(1927, 56064)"
      ]
     },
     "execution_count": 12,
     "metadata": {},
     "output_type": "execute_result"
    }
   ],
   "source": [
    "new_mat.shape"
   ]
  },
  {
   "cell_type": "code",
   "execution_count": 13,
   "metadata": {},
   "outputs": [
    {
     "data": {
      "text/plain": [
       "26"
      ]
     },
     "execution_count": 13,
     "metadata": {},
     "output_type": "execute_result"
    }
   ],
   "source": [
    "len(aa_reps)"
   ]
  },
  {
   "cell_type": "code",
   "execution_count": null,
   "metadata": {
    "collapsed": true
   },
   "outputs": [],
   "source": []
  }
 ],
 "metadata": {
  "kernelspec": {
   "display_name": "Python 3.6.8 64-bit ('py36': conda)",
   "language": "python",
   "name": "python36864bitpy36condadbcdff88205a4a608c25ad1b77511c9e"
  },
  "language_info": {
   "codemirror_mode": {
    "name": "ipython",
    "version": 3
   },
   "file_extension": ".py",
   "mimetype": "text/x-python",
   "name": "python",
   "nbconvert_exporter": "python",
   "pygments_lexer": "ipython3",
   "version": "3.6.8"
  }
 },
 "nbformat": 4,
 "nbformat_minor": 2
}
